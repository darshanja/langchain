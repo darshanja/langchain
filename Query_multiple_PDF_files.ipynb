{
  "nbformat": 4,
  "nbformat_minor": 0,
  "metadata": {
    "colab": {
      "provenance": [],
      "authorship_tag": "ABX9TyM9Y3TR20LqhGpFj0F725US",
      "include_colab_link": true
    },
    "kernelspec": {
      "name": "python3",
      "display_name": "Python 3"
    },
    "language_info": {
      "name": "python"
    }
  },
  "cells": [
    {
      "cell_type": "markdown",
      "metadata": {
        "id": "view-in-github",
        "colab_type": "text"
      },
      "source": [
        "<a href=\"https://colab.research.google.com/github/darshanja/langchain/blob/main/Query_multiple_PDF_files.ipynb\" target=\"_parent\"><img src=\"https://colab.research.google.com/assets/colab-badge.svg\" alt=\"Open In Colab\"/></a>"
      ]
    },
    {
      "cell_type": "code",
      "source": [
        "!pip install --upgrade langchain -q"
      ],
      "metadata": {
        "id": "fUY2trWVqFI6"
      },
      "execution_count": 50,
      "outputs": []
    },
    {
      "cell_type": "code",
      "execution_count": null,
      "metadata": {
        "id": "GhEKvHHbcvNU"
      },
      "outputs": [],
      "source": [
        "!pip install openai -q\n",
        "!pip install unstructured -q\n",
        "!pip install chromadb -q\n",
        "!pip install Cython -q\n",
        "!pip install tiktoken"
      ]
    },
    {
      "cell_type": "code",
      "source": [
        "!pip install pypdf -q"
      ],
      "metadata": {
        "id": "gK0_SlGXjT7l"
      },
      "execution_count": 40,
      "outputs": []
    },
    {
      "cell_type": "code",
      "source": [
        "!pip install unstructured[local-inference] -q"
      ],
      "metadata": {
        "id": "Lulmg949fmDB"
      },
      "execution_count": 41,
      "outputs": []
    },
    {
      "cell_type": "code",
      "source": [
        "!curl -o paper_new.pdf https://arxiv.org/pdf/2023.13519.pdf"
      ],
      "metadata": {
        "colab": {
          "base_uri": "https://localhost:8080/"
        },
        "id": "sPGfQab_oQpz",
        "outputId": "5ca7452c-81d5-42d7-85a3-30fac25b31fd"
      },
      "execution_count": 38,
      "outputs": [
        {
          "output_type": "stream",
          "name": "stdout",
          "text": [
            "  % Total    % Received % Xferd  Average Speed   Time    Time     Time  Current\n",
            "                                 Dload  Upload   Total   Spent    Left  Speed\n",
            "100  8660    0  8660    0     0  21121      0 --:--:-- --:--:-- --:--:-- 21173\n"
          ]
        }
      ]
    },
    {
      "cell_type": "code",
      "source": [],
      "metadata": {
        "id": "sNdB-lqTtUtJ"
      },
      "execution_count": null,
      "outputs": []
    },
    {
      "cell_type": "code",
      "source": [
        "import langchain\n",
        "import os\n",
        "import openai\n",
        "from langchain.embeddings import OpenAIEmbeddings\n",
        "from langchain.vectorstores import Chroma\n",
        "from langchain import OpenAI, VectorDBQA\n",
        "from langchain.document_loaders import UnstructuredFileLoader\n",
        "from langchain.text_splitter import CharacterTextSplitter\n",
        "import nltk\n",
        "nltk.download('punkt')"
      ],
      "metadata": {
        "id": "VEkkAQtXtUqe"
      },
      "execution_count": null,
      "outputs": []
    },
    {
      "cell_type": "code",
      "source": [
        "os.environ['OPENAI_API_KEY'] = \"replace_your_openai_api_key_here\""
      ],
      "metadata": {
        "id": "nZFo9gWZwY2h"
      },
      "execution_count": 8,
      "outputs": []
    },
    {
      "cell_type": "code",
      "source": [
        "loader = UnstructuredFileLoader('/content/Goal-2.pdf')\n",
        "documents = loader.load()\n",
        "len(documents)"
      ],
      "metadata": {
        "colab": {
          "base_uri": "https://localhost:8080/"
        },
        "id": "dr9-q9A0tUoD",
        "outputId": "bc6c7534-e913-456e-a7cf-b1f35c8ba5a9"
      },
      "execution_count": 48,
      "outputs": [
        {
          "output_type": "stream",
          "name": "stderr",
          "text": [
            "WARNING:unstructured:detectron2 is not installed. Cannot use the hi_res partitioning strategy. Falling back to partitioning with the fast strategy.\n"
          ]
        },
        {
          "output_type": "execute_result",
          "data": {
            "text/plain": [
              "1"
            ]
          },
          "metadata": {},
          "execution_count": 48
        }
      ]
    },
    {
      "cell_type": "code",
      "source": [
        "text_splitter = CharacterTextSplitter(chunk_size = 500, chunk_overlap=0)\n",
        "texts = text_splitter.split_documents(documents)"
      ],
      "metadata": {
        "id": "As2_kZYbtUlL"
      },
      "execution_count": 52,
      "outputs": []
    },
    {
      "cell_type": "code",
      "source": [
        "embeddings = OpenAIEmbeddings(openai_api_key = os.environ['OPENAI_API_KEY'])\n",
        "doc_search = Chroma.from_documents(texts, embeddings)\n",
        "chain = VectorDBQA.from_chain_type(llm = OpenAI(), chain_type='stuff', vectorstore = doc_search)"
      ],
      "metadata": {
        "colab": {
          "base_uri": "https://localhost:8080/"
        },
        "id": "78wTKlyEtUik",
        "outputId": "14473e8f-259a-42c8-849e-324dcf47a437"
      },
      "execution_count": 53,
      "outputs": [
        {
          "output_type": "stream",
          "name": "stderr",
          "text": [
            "WARNING:chromadb:Using embedded DuckDB without persistence: data will be transient\n"
          ]
        }
      ]
    },
    {
      "cell_type": "code",
      "source": [
        "query = \"Summarize the content\"\n",
        "chain.run(query)"
      ],
      "metadata": {
        "colab": {
          "base_uri": "https://localhost:8080/",
          "height": 88
        },
        "id": "T_lWN9_N0lHz",
        "outputId": "e03678ca-7c22-4d4e-cee5-7fa9c6ede754"
      },
      "execution_count": 54,
      "outputs": [
        {
          "output_type": "execute_result",
          "data": {
            "text/plain": [
              "\" The content discusses global hunger, which is an issue that needs to be addressed. It explains that hunger has been on the rise for the past three years and is worsening in South America and most regions of Africa. It also explains that poor harvesting practices, food wastage, and wars have all contributed to the issue. To help, people can join the Global Movement for Zero Hunger and take action by visiting the Zero Hunger Challenge website or the UN's Sustainable Development Goals website.\""
            ],
            "application/vnd.google.colaboratory.intrinsic+json": {
              "type": "string"
            }
          },
          "metadata": {},
          "execution_count": 54
        }
      ]
    },
    {
      "cell_type": "code",
      "source": [
        "query = \"what is the goal of this article?\"\n",
        "chain.run(query)"
      ],
      "metadata": {
        "colab": {
          "base_uri": "https://localhost:8080/",
          "height": 53
        },
        "id": "xdOTY64HtUf-",
        "outputId": "8be6831c-e3c0-40f4-e95f-1dcfa7152093"
      },
      "execution_count": 55,
      "outputs": [
        {
          "output_type": "execute_result",
          "data": {
            "text/plain": [
              "' The goal of this article is to explain why it is important to end hunger, achieve food security and improved nutrition, and promote sustainable agriculture.'"
            ],
            "application/vnd.google.colaboratory.intrinsic+json": {
              "type": "string"
            }
          },
          "metadata": {},
          "execution_count": 55
        }
      ]
    },
    {
      "cell_type": "code",
      "source": [
        "query = \"How many people are suffering from hunger according to this article?\"\n",
        "chain.run(query)"
      ],
      "metadata": {
        "colab": {
          "base_uri": "https://localhost:8080/",
          "height": 36
        },
        "id": "pb8lrtr2tUdi",
        "outputId": "d73ffc7b-7256-4262-e5f4-fdc08f937951"
      },
      "execution_count": 56,
      "outputs": [
        {
          "output_type": "execute_result",
          "data": {
            "text/plain": [
              "' 821 million people suffer from hunger according to this article.'"
            ],
            "application/vnd.google.colaboratory.intrinsic+json": {
              "type": "string"
            }
          },
          "metadata": {},
          "execution_count": 56
        }
      ]
    },
    {
      "cell_type": "code",
      "source": [
        "query = \"How much will it cost to achieve zero hunger? \"\n",
        "chain.run(query)"
      ],
      "metadata": {
        "colab": {
          "base_uri": "https://localhost:8080/",
          "height": 36
        },
        "id": "7V--pIhDtUan",
        "outputId": "ee62b779-6e8c-4b5a-9cbd-1a2f5ad3de85"
      },
      "execution_count": 57,
      "outputs": [
        {
          "output_type": "execute_result",
          "data": {
            "text/plain": [
              "' We will need an estimated additional $267 billion per year on average to end world hunger by 2030.'"
            ],
            "application/vnd.google.colaboratory.intrinsic+json": {
              "type": "string"
            }
          },
          "metadata": {},
          "execution_count": 57
        }
      ]
    },
    {
      "cell_type": "code",
      "source": [
        "query = \"How many people will be suffering from hunger by 2050 according to this article? \"\n",
        "chain.run(query)"
      ],
      "metadata": {
        "colab": {
          "base_uri": "https://localhost:8080/",
          "height": 36
        },
        "id": "19tnRbdG0TVK",
        "outputId": "027dc533-0358-4d98-8f8e-aa977881b63e"
      },
      "execution_count": 58,
      "outputs": [
        {
          "output_type": "execute_result",
          "data": {
            "text/plain": [
              "' According to this article, it is estimated that there will be nearly 2 billion people suffering from hunger by 2050.'"
            ],
            "application/vnd.google.colaboratory.intrinsic+json": {
              "type": "string"
            }
          },
          "metadata": {},
          "execution_count": 58
        }
      ]
    },
    {
      "cell_type": "code",
      "source": [],
      "metadata": {
        "id": "FBlajcLQ0TSL"
      },
      "execution_count": null,
      "outputs": []
    },
    {
      "cell_type": "code",
      "source": [],
      "metadata": {
        "id": "HSwgpeX_0TM8"
      },
      "execution_count": null,
      "outputs": []
    },
    {
      "cell_type": "code",
      "source": [],
      "metadata": {
        "id": "Ge3aRYSM0TKR"
      },
      "execution_count": null,
      "outputs": []
    },
    {
      "cell_type": "code",
      "source": [],
      "metadata": {
        "id": "Wuyi2MeD0THp"
      },
      "execution_count": null,
      "outputs": []
    }
  ]
}