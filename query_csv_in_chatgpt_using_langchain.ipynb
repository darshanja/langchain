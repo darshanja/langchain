{
  "nbformat": 4,
  "nbformat_minor": 0,
  "metadata": {
    "colab": {
      "provenance": [],
      "authorship_tag": "ABX9TyO8az2xTrO4uc1H+YtdWUu2"
    },
    "kernelspec": {
      "name": "python3",
      "display_name": "Python 3"
    },
    "language_info": {
      "name": "python"
    }
  },
  "cells": [
    {
      "cell_type": "markdown",
      "source": [
        "### Install required libraries"
      ],
      "metadata": {
        "id": "VUnDuTkJV98s"
      }
    },
    {
      "cell_type": "code",
      "source": [
        "!pip install langchain -q\n",
        "!pip install openai -q\n",
        "!pip install chromadb -q"
      ],
      "metadata": {
        "id": "1_KF1A2kN04O"
      },
      "execution_count": 11,
      "outputs": []
    },
    {
      "cell_type": "markdown",
      "source": [
        "### Import required libraries"
      ],
      "metadata": {
        "id": "LZhjTA4AWEYS"
      }
    },
    {
      "cell_type": "code",
      "execution_count": 14,
      "metadata": {
        "id": "BwVYpR3bNj9M"
      },
      "outputs": [],
      "source": [
        "from langchain.document_loaders import CSVLoader\n",
        "from langchain.indexes import VectorstoreIndexCreator\n",
        "from langchain.chains import RetrievalQA\n",
        "from langchain.llms import OpenAI\n",
        "import os"
      ]
    },
    {
      "cell_type": "markdown",
      "source": [
        "### Set openai api key"
      ],
      "metadata": {
        "id": "TBAeFwZaWInO"
      }
    },
    {
      "cell_type": "code",
      "source": [
        "os.environ['OPENAI_API_KEY'] ='replace your openai api key'"
      ],
      "metadata": {
        "id": "E-kPysnINmlg"
      },
      "execution_count": 15,
      "outputs": []
    },
    {
      "cell_type": "markdown",
      "source": [
        "### Load documnet templet"
      ],
      "metadata": {
        "id": "qsLQYwkRWQk4"
      }
    },
    {
      "cell_type": "code",
      "source": [
        "loader = CSVLoader(file_path=\"pokemon.csv\", encoding=\"utf8\")"
      ],
      "metadata": {
        "id": "YQp7q0b7OCwu"
      },
      "execution_count": 16,
      "outputs": []
    },
    {
      "cell_type": "markdown",
      "source": [
        "### Create index with documents"
      ],
      "metadata": {
        "id": "QHU6gohKWWRK"
      }
    },
    {
      "cell_type": "code",
      "source": [
        "index = VectorstoreIndexCreator(vectorstore_kwargs={\"persist_directory\":\"pokemon\"}).from_loaders([loader])"
      ],
      "metadata": {
        "colab": {
          "base_uri": "https://localhost:8080/"
        },
        "id": "S_RzWHiJOKM-",
        "outputId": "7dbe49a8-bb8e-4359-9c21-7d7c7d50d275"
      },
      "execution_count": 17,
      "outputs": [
        {
          "output_type": "stream",
          "name": "stderr",
          "text": [
            "WARNING:chromadb:Using embedded DuckDB with persistence: data will be stored in: pokemon\n"
          ]
        }
      ]
    },
    {
      "cell_type": "markdown",
      "source": [],
      "metadata": {
        "id": "mscP-5drWa-e"
      }
    },
    {
      "cell_type": "code",
      "source": [
        "chain = RetrievalQA.from_chain_type(llm=OpenAI(openai_api_key = os.environ['OPENAI_API_KEY']), chain_type = 'stuff',\n",
        "                                    retriever = index.vectorstore.as_retriever())"
      ],
      "metadata": {
        "id": "Gg_NgX2_OKKU"
      },
      "execution_count": 20,
      "outputs": []
    },
    {
      "cell_type": "markdown",
      "source": [
        "### Querying csv"
      ],
      "metadata": {
        "id": "WykOXgXqWe-P"
      }
    },
    {
      "cell_type": "code",
      "source": [
        "query = \"Based on stats on a battle between Raichu and pikachu who is most likely to win and why, also list their stats in detsild?\"\n",
        "response = chain(query)\n",
        "print(response)"
      ],
      "metadata": {
        "colab": {
          "base_uri": "https://localhost:8080/"
        },
        "id": "D88qfhxMOKGe",
        "outputId": "bf856c69-d2c6-4a29-b3c8-c6dda43945cd"
      },
      "execution_count": 23,
      "outputs": [
        {
          "output_type": "stream",
          "name": "stdout",
          "text": [
            "{'query': 'Based on stats on a battle between Raichu and pikachu who is most likely to win and why, also list their stats in detsild?', 'result': \" Raichu is more likely to win because it has higher stats than Pikachu. Raichu's stats are: HP: 60, Attack: 85, Defense: 50, Special Attack: 95, Special Defense: 85, Speed: 110. Pikachu's stats are: HP: 35, Attack: 55, Defense: 40, Special Attack: 50, Special Defense: 50, Speed: 90.\"}\n"
          ]
        }
      ]
    },
    {
      "cell_type": "code",
      "source": [
        "response"
      ],
      "metadata": {
        "colab": {
          "base_uri": "https://localhost:8080/"
        },
        "id": "qkqOe3TzOKCw",
        "outputId": "691b34d4-f13d-4896-9501-a197f232e52e"
      },
      "execution_count": 24,
      "outputs": [
        {
          "output_type": "execute_result",
          "data": {
            "text/plain": [
              "{'query': 'Based on stats on a battle between Raichu and pikachu who is most likely to win and why, also list their stats in detsild?',\n",
              " 'result': \" Raichu is more likely to win because it has higher stats than Pikachu. Raichu's stats are: HP: 60, Attack: 85, Defense: 50, Special Attack: 95, Special Defense: 85, Speed: 110. Pikachu's stats are: HP: 35, Attack: 55, Defense: 40, Special Attack: 50, Special Defense: 50, Speed: 90.\"}"
            ]
          },
          "metadata": {},
          "execution_count": 24
        }
      ]
    },
    {
      "cell_type": "code",
      "source": [],
      "metadata": {
        "id": "-8mry1GVOH5t"
      },
      "execution_count": null,
      "outputs": []
    }
  ]
}